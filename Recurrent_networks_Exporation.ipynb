{
  "nbformat": 4,
  "nbformat_minor": 0,
  "metadata": {
    "colab": {
      "name": "Recurrent_networks_Exporation.ipynb",
      "provenance": []
    },
    "kernelspec": {
      "name": "python3",
      "display_name": "Python 3"
    },
    "language_info": {
      "name": "python"
    }
  },
  "cells": [
    {
      "cell_type": "code",
      "metadata": {
        "id": "VJZkanuipxPc"
      },
      "source": [
        "import torch\n",
        "import torch.nn as nn\n",
        "import torch.optim as optim\n",
        "from torch import LongTensor"
      ],
      "execution_count": null,
      "outputs": []
    },
    {
      "cell_type": "code",
      "metadata": {
        "id": "88Z3xb9PqAyt"
      },
      "source": [
        "data = [\"long_str\", \"tiny\", \"medium\"]"
      ],
      "execution_count": null,
      "outputs": []
    },
    {
      "cell_type": "code",
      "metadata": {
        "colab": {
          "base_uri": "https://localhost:8080/"
        },
        "id": "o80TTWMvqFK_",
        "outputId": "9661704d-ec9e-4af9-d7a0-e2666f31fb35"
      },
      "source": [
        "# create a vocab\n",
        "vocab = ['<pad>'] + sorted(set([char for seq in data for char in seq]))\n",
        "vocab"
      ],
      "execution_count": null,
      "outputs": [
        {
          "output_type": "execute_result",
          "data": {
            "text/plain": [
              "['<pad>', '_', 'd', 'e', 'g', 'i', 'l', 'm', 'n', 'o', 'r', 's', 't', 'u', 'y']"
            ]
          },
          "metadata": {
            "tags": []
          },
          "execution_count": 3
        }
      ]
    },
    {
      "cell_type": "code",
      "metadata": {
        "colab": {
          "base_uri": "https://localhost:8080/"
        },
        "id": "tPzJYoWSqUdp",
        "outputId": "7a836f01-5b74-482a-e166-d8ef752a424f"
      },
      "source": [
        "vectorized_data = [[vocab.index(tok) for tok in seq]for seq in data]\n",
        "vectorized_data"
      ],
      "execution_count": null,
      "outputs": [
        {
          "output_type": "execute_result",
          "data": {
            "text/plain": [
              "[[6, 9, 8, 4, 1, 11, 12, 10], [12, 5, 8, 14], [7, 3, 2, 5, 13, 7]]"
            ]
          },
          "metadata": {
            "tags": []
          },
          "execution_count": 4
        }
      ]
    },
    {
      "cell_type": "code",
      "metadata": {
        "colab": {
          "base_uri": "https://localhost:8080/"
        },
        "id": "4dFPYwUJqfEh",
        "outputId": "48d953ef-9032-4aa5-8922-27ff726f274b"
      },
      "source": [
        "# pad with 0\n",
        "seq_lengths = LongTensor([len(seq) for seq in vectorized_data])\n",
        "sequence_tensor = torch.zeros(len(vectorized_data), seq_lengths.max(), dtype=torch.long)\n",
        "\n",
        "for idx, (seq, seq_len) in enumerate(zip(vectorized_data, seq_lengths)):\n",
        "    sequence_tensor[idx, :seq_len] = LongTensor(seq)\n",
        "\n",
        "sequence_tensor"
      ],
      "execution_count": null,
      "outputs": [
        {
          "output_type": "execute_result",
          "data": {
            "text/plain": [
              "tensor([[ 6,  9,  8,  4,  1, 11, 12, 10],\n",
              "        [12,  5,  8, 14,  0,  0,  0,  0],\n",
              "        [ 7,  3,  2,  5, 13,  7,  0,  0]])"
            ]
          },
          "metadata": {
            "tags": []
          },
          "execution_count": 5
        }
      ]
    },
    {
      "cell_type": "code",
      "metadata": {
        "colab": {
          "base_uri": "https://localhost:8080/"
        },
        "id": "szP8pWmDrC0z",
        "outputId": "37724f0b-7758-447e-8416-285dc2a8cabb"
      },
      "source": [
        "sequence_tensor = sequence_tensor.t()\n",
        "sequence_tensor.shape"
      ],
      "execution_count": null,
      "outputs": [
        {
          "output_type": "execute_result",
          "data": {
            "text/plain": [
              "torch.Size([8, 3])"
            ]
          },
          "metadata": {
            "tags": []
          },
          "execution_count": 6
        }
      ]
    },
    {
      "cell_type": "code",
      "metadata": {
        "colab": {
          "base_uri": "https://localhost:8080/"
        },
        "id": "0CejlsW7rLz0",
        "outputId": "29407804-5271-4880-c0b6-54a8bff75f6a"
      },
      "source": [
        "input_dim = len(vocab)\n",
        "print(f\"length of vocab: {input_dim}\")\n",
        "\n",
        "hidden_dim = 5\n",
        "embedding_dim = 5"
      ],
      "execution_count": null,
      "outputs": [
        {
          "output_type": "stream",
          "text": [
            "length of vocab: 15\n"
          ],
          "name": "stdout"
        }
      ]
    },
    {
      "cell_type": "code",
      "metadata": {
        "id": "TWtd_CHhrX_1"
      },
      "source": [
        "# Single Layer RNN Unidirectional\n",
        "class SingleLayerUnidirectionalRNN(nn.Module):\n",
        "    def __init__(self, input_dim, embedding_dim, hidden_dim, n_layers, bidirectional):\n",
        "        super().__init__()\n",
        "        self.embedding = nn.Embedding(input_dim, embedding_dim)\n",
        "        self.rnn = nn.RNN(embedding_dim, hidden_dim, num_layers=n_layers, bidirectional=bidirectional)\n",
        "\n",
        "    def forward(self, input):\n",
        "        # input: (max_len, batch_size)\n",
        "        embed = self.embedding(input)\n",
        "\n",
        "        # embed: (max_len, batch_size, embedding_dim)\n",
        "        output, hidden = self.rnn(embed)\n",
        "\n",
        "        # output: (max_len, batch_size, hidden_size)\n",
        "        # hidden: (1, batch_size, hidden_size)\n",
        "\n",
        "        return output, hidden"
      ],
      "execution_count": null,
      "outputs": []
    },
    {
      "cell_type": "code",
      "metadata": {
        "colab": {
          "base_uri": "https://localhost:8080/"
        },
        "id": "A0RfL7ots1Z-",
        "outputId": "964bf708-05bb-4c0b-c86f-62a2da8b9806"
      },
      "source": [
        "n_layers = 1\n",
        "bidirectional = False\n",
        "model = SingleLayerUnidirectionalRNN(input_dim, embedding_dim, hidden_dim, n_layers, bidirectional)\n",
        "output, hidden = model(sequence_tensor)\n",
        "\n",
        "print(f\"Input shape is : {sequence_tensor.shape}\")\n",
        "print(f\"Output shape is : {output.shape}\")\n",
        "print(f\"Hidden shape is : {hidden.shape}\")"
      ],
      "execution_count": null,
      "outputs": [
        {
          "output_type": "stream",
          "text": [
            "Input shape is : torch.Size([8, 3])\n",
            "Output shape is : torch.Size([8, 3, 5])\n",
            "Hidden shape is : torch.Size([1, 3, 5])\n"
          ],
          "name": "stdout"
        }
      ]
    },
    {
      "cell_type": "code",
      "metadata": {
        "colab": {
          "base_uri": "https://localhost:8080/"
        },
        "id": "gMOm04pWs4C9",
        "outputId": "eef1fdd8-909c-4e16-db58-0bea0927bbf4"
      },
      "source": [
        "output"
      ],
      "execution_count": null,
      "outputs": [
        {
          "output_type": "execute_result",
          "data": {
            "text/plain": [
              "tensor([[[ 0.0466, -0.3719,  0.5914,  0.4617,  0.1719],\n",
              "         [ 0.0078,  0.0540,  0.6547,  0.5201,  0.4642],\n",
              "         [ 0.5363, -0.8247,  0.2313, -0.5295,  0.0374]],\n",
              "\n",
              "        [[-0.6854, -0.0672,  0.8767,  0.2140,  0.6724],\n",
              "         [-0.1483, -0.3017,  0.5405,  0.3033, -0.0147],\n",
              "         [ 0.8267, -0.3039,  0.3077,  0.2298,  0.3711]],\n",
              "\n",
              "        [[-0.1009, -0.7167,  0.7196, -0.6920,  0.3840],\n",
              "         [ 0.2807, -0.5539,  0.7004, -0.6210,  0.5526],\n",
              "         [-0.2302, -0.0485,  0.9598,  0.1026,  0.9369]],\n",
              "\n",
              "        [[-0.8246,  0.1829,  0.9302,  0.6966,  0.8650],\n",
              "         [-0.7667, -0.8195,  0.5083,  0.3231,  0.0710],\n",
              "         [-0.4026, -0.5183,  0.5398,  0.3299, -0.0907]],\n",
              "\n",
              "        [[-0.5295, -0.3372,  0.7480, -0.2393,  0.1420],\n",
              "         [ 0.7092, -0.1942, -0.4517, -0.0866, -0.6800],\n",
              "         [-0.2052, -0.5429,  0.4913, -0.6004,  0.2306]],\n",
              "\n",
              "        [[-0.6980, -0.8168,  0.7027, -0.6641,  0.4806],\n",
              "         [ 0.8501, -0.1405, -0.1164,  0.6665, -0.2095],\n",
              "         [ 0.4164, -0.8782,  0.1272, -0.5436,  0.0032]],\n",
              "\n",
              "        [[-0.3251, -0.1818,  0.4805,  0.3520,  0.2735],\n",
              "         [ 0.8893, -0.1776, -0.0302,  0.3916, -0.2953],\n",
              "         [ 0.7637, -0.4072, -0.2572,  0.5728, -0.3377]],\n",
              "\n",
              "        [[ 0.0594, -0.4546,  0.3126, -0.1147, -0.1512],\n",
              "         [ 0.8854, -0.2267, -0.0115,  0.4717, -0.2422],\n",
              "         [ 0.8882, -0.0926, -0.1562,  0.4026, -0.3135]]],\n",
              "       grad_fn=<StackBackward>)"
            ]
          },
          "metadata": {
            "tags": []
          },
          "execution_count": 20
        }
      ]
    },
    {
      "cell_type": "code",
      "metadata": {
        "colab": {
          "base_uri": "https://localhost:8080/"
        },
        "id": "VDCqjTFCtaJL",
        "outputId": "a1243fa2-1f19-4c0e-86af-afed0bb47c0a"
      },
      "source": [
        "hidden[0]"
      ],
      "execution_count": null,
      "outputs": [
        {
          "output_type": "execute_result",
          "data": {
            "text/plain": [
              "tensor([[ 0.0594, -0.4546,  0.3126, -0.1147, -0.1512],\n",
              "        [ 0.8854, -0.2267, -0.0115,  0.4717, -0.2422],\n",
              "        [ 0.8882, -0.0926, -0.1562,  0.4026, -0.3135]],\n",
              "       grad_fn=<SelectBackward>)"
            ]
          },
          "metadata": {
            "tags": []
          },
          "execution_count": 19
        }
      ]
    },
    {
      "cell_type": "code",
      "metadata": {
        "id": "BRsvUWiCtbiU"
      },
      "source": [
        "class MultiLayerUnidirectionalRNN(nn.Module):\n",
        "    def __init__(self, input_dim, embedding_dim, hidden_dim, n_layers, bidirectional):\n",
        "        super().__init__()\n",
        "        self.embedding = nn.Embedding(input_dim, embedding_dim)\n",
        "        self.rnn = nn.RNN(embedding_dim, hidden_dim, num_layers=n_layers, bidirectional=bidirectional)\n",
        "\n",
        "    def forward(self, input):\n",
        "        # input: (max_len, batch_size)\n",
        "        embed = self.embedding(input)\n",
        "\n",
        "        # embed: (max_len, batch_size, embedding_dim)\n",
        "\n",
        "        output, hidden = self.rnn(embed)\n",
        "\n",
        "        # optput: (max_len, batch_size, hidden_dim)\n",
        "        # hidden: (num_layers, batch_size, hidden_size)\n",
        "\n",
        "        return output, hidden"
      ],
      "execution_count": null,
      "outputs": []
    },
    {
      "cell_type": "code",
      "metadata": {
        "colab": {
          "base_uri": "https://localhost:8080/"
        },
        "id": "XofrwN1AwlT_",
        "outputId": "6f89ea0b-0937-4d40-f90c-5b0113bed825"
      },
      "source": [
        "n_layers = 2\n",
        "bidirectional = False\n",
        "model = MultiLayerUnidirectionalRNN(input_dim, embedding_dim, hidden_dim, n_layers, bidirectional)\n",
        "output, hidden = model(sequence_tensor)\n",
        "\n",
        "print(f\"Input shape is : {sequence_tensor.shape}\")\n",
        "print(f\"Output shape is : {output.shape}\")\n",
        "print(f\"Hidden shape is : {hidden.shape}\")"
      ],
      "execution_count": null,
      "outputs": [
        {
          "output_type": "stream",
          "text": [
            "Input shape is : torch.Size([8, 3])\n",
            "Output shape is : torch.Size([8, 3, 5])\n",
            "Hidden shape is : torch.Size([2, 3, 5])\n"
          ],
          "name": "stdout"
        }
      ]
    },
    {
      "cell_type": "code",
      "metadata": {
        "id": "ydVZLdluxGB_",
        "outputId": "3f336b40-1c83-4c57-b0a2-496de5c93953",
        "colab": {
          "base_uri": "https://localhost:8080/"
        }
      },
      "source": [
        "output"
      ],
      "execution_count": null,
      "outputs": [
        {
          "output_type": "execute_result",
          "data": {
            "text/plain": [
              "tensor([[[ 0.3962, -0.0827, -0.1869, -0.3616, -0.1239],\n",
              "         [ 0.2613, -0.0506, -0.3532, -0.1863,  0.4519],\n",
              "         [ 0.3169, -0.0741, -0.2440, -0.3073,  0.3363]],\n",
              "\n",
              "        [[ 0.4915,  0.5245, -0.7064, -0.5213,  0.0417],\n",
              "         [ 0.7357, -0.4159,  0.1277, -0.1892,  0.2926],\n",
              "         [ 0.5409,  0.0034, -0.2457, -0.4074,  0.4711]],\n",
              "\n",
              "        [[ 0.7653, -0.2309, -0.2230, -0.2830, -0.4220],\n",
              "         [ 0.7691,  0.2739, -0.3700, -0.6018,  0.1591],\n",
              "         [ 0.4161,  0.2183, -0.4183, -0.4646,  0.4102]],\n",
              "\n",
              "        [[ 0.8034,  0.2950, -0.4150, -0.7333, -0.3047],\n",
              "         [ 0.7307,  0.1854, -0.5142, -0.4657,  0.2054],\n",
              "         [ 0.7521, -0.3472,  0.0093, -0.2654,  0.3317]],\n",
              "\n",
              "        [[ 0.7531,  0.4677, -0.6864, -0.6629, -0.3915],\n",
              "         [ 0.7217,  0.1843, -0.4873, -0.4060,  0.0701],\n",
              "         [ 0.7865,  0.0918, -0.2145, -0.5771,  0.4320]],\n",
              "\n",
              "        [[ 0.8253,  0.2184, -0.6393, -0.4298,  0.0181],\n",
              "         [ 0.7312,  0.2092, -0.5019, -0.4286, -0.0032],\n",
              "         [ 0.5978,  0.2181, -0.4748, -0.5049,  0.4556]],\n",
              "\n",
              "        [[ 0.6236,  0.0855, -0.5251, -0.2950,  0.3936],\n",
              "         [ 0.7446,  0.2273, -0.5245, -0.4452, -0.0485],\n",
              "         [ 0.6349,  0.0816, -0.3935, -0.3486,  0.1794]],\n",
              "\n",
              "        [[ 0.6076,  0.0086, -0.2606, -0.4009, -0.0324],\n",
              "         [ 0.7553,  0.2353, -0.5373, -0.4538, -0.0777],\n",
              "         [ 0.6962,  0.1993, -0.4628, -0.4153,  0.0994]]],\n",
              "       grad_fn=<StackBackward>)"
            ]
          },
          "metadata": {
            "tags": []
          },
          "execution_count": 28
        }
      ]
    },
    {
      "cell_type": "code",
      "metadata": {
        "colab": {
          "base_uri": "https://localhost:8080/"
        },
        "id": "65bTsx-0wqFs",
        "outputId": "40b4fd24-09b0-487f-f8e3-541e759badea"
      },
      "source": [
        "output[-1, :, :]"
      ],
      "execution_count": null,
      "outputs": [
        {
          "output_type": "execute_result",
          "data": {
            "text/plain": [
              "tensor([[ 0.6076,  0.0086, -0.2606, -0.4009, -0.0324],\n",
              "        [ 0.7553,  0.2353, -0.5373, -0.4538, -0.0777],\n",
              "        [ 0.6962,  0.1993, -0.4628, -0.4153,  0.0994]],\n",
              "       grad_fn=<SliceBackward>)"
            ]
          },
          "metadata": {
            "tags": []
          },
          "execution_count": 23
        }
      ]
    },
    {
      "cell_type": "code",
      "metadata": {
        "colab": {
          "base_uri": "https://localhost:8080/"
        },
        "id": "DKleIC00wyw5",
        "outputId": "6030f45d-fc88-435d-946f-39e658a73461"
      },
      "source": [
        "hidden"
      ],
      "execution_count": null,
      "outputs": [
        {
          "output_type": "execute_result",
          "data": {
            "text/plain": [
              "tensor([[[-0.5130,  0.3425,  0.4363,  0.6125,  0.2856],\n",
              "         [-0.5536, -0.5419,  0.2596,  0.6774, -0.3151],\n",
              "         [-0.5413, -0.5923,  0.2885,  0.6548, -0.2219]],\n",
              "\n",
              "        [[ 0.6076,  0.0086, -0.2606, -0.4009, -0.0324],\n",
              "         [ 0.7553,  0.2353, -0.5373, -0.4538, -0.0777],\n",
              "         [ 0.6962,  0.1993, -0.4628, -0.4153,  0.0994]]],\n",
              "       grad_fn=<StackBackward>)"
            ]
          },
          "metadata": {
            "tags": []
          },
          "execution_count": 26
        }
      ]
    },
    {
      "cell_type": "code",
      "metadata": {
        "colab": {
          "base_uri": "https://localhost:8080/"
        },
        "id": "QT9rrBqfw1Gp",
        "outputId": "91078d20-bf45-4ff3-95dc-05b6425c8809"
      },
      "source": [
        "hidden[-1]"
      ],
      "execution_count": null,
      "outputs": [
        {
          "output_type": "execute_result",
          "data": {
            "text/plain": [
              "tensor([[ 0.6076,  0.0086, -0.2606, -0.4009, -0.0324],\n",
              "        [ 0.7553,  0.2353, -0.5373, -0.4538, -0.0777],\n",
              "        [ 0.6962,  0.1993, -0.4628, -0.4153,  0.0994]],\n",
              "       grad_fn=<SelectBackward>)"
            ]
          },
          "metadata": {
            "tags": []
          },
          "execution_count": 27
        }
      ]
    },
    {
      "cell_type": "code",
      "metadata": {
        "id": "Oh1cf9YkxB_6"
      },
      "source": [
        ""
      ],
      "execution_count": null,
      "outputs": []
    }
  ]
}